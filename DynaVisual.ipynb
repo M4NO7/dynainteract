{
 "cells": [
  {
   "cell_type": "code",
   "execution_count": 26,
   "id": "ec26bcbb-3a4d-4463-a60d-efdefaf31ac6",
   "metadata": {
    "scrolled": true
   },
   "outputs": [],
   "source": [
    "import numpy as np\n",
    "import matplotlib.pyplot as plt\n",
    "import ipywidgets as widgets\n",
    "#always remember to name this IPython rather than Ipython\n",
    "from IPython.display import display"
   ]
  },
  {
   "cell_type": "code",
   "execution_count": 11,
   "id": "d438b8e9-92af-43ec-afe6-b8b84d2fd226",
   "metadata": {},
   "outputs": [],
   "source": [
    "#First Generate some sample data\n",
    "x = np.linspace(0, 2 * np.pi, 100)\n",
    "y = np.sin(x)"
   ]
  },
  {
   "cell_type": "code",
   "execution_count": 24,
   "id": "71b1a965-5476-46b3-b59f-9f0f75e21468",
   "metadata": {},
   "outputs": [],
   "source": [
    "#Then create the function for updating the plot\n",
    "def update_plot(freq=1.0):\n",
    "    plt.figure(figsize=(8,4))\n",
    "    plt.plot(x, np.sin(freq*x))\n",
    "    plt.title(f'Sine Wave (Frequency = {freq})')\n",
    "    plt.xlabel('x')\n",
    "    plt.ylabel('sin(x)')\n",
    "    plt.grid(True)\n",
    "    plt.show()"
   ]
  },
  {
   "cell_type": "code",
   "execution_count": 25,
   "id": "755281ea-c561-43bd-a701-0760da9f07bf",
   "metadata": {},
   "outputs": [
    {
     "data": {
      "application/vnd.jupyter.widget-view+json": {
       "model_id": "8d74d2aef3dd43d383b57941d7d69e5a",
       "version_major": 2,
       "version_minor": 0
      },
      "text/plain": [
       "interactive(children=(FloatSlider(value=1.0, description='Frequency:', max=5.0, min=0.1), Output()), _dom_clas…"
      ]
     },
     "execution_count": 25,
     "metadata": {},
     "output_type": "execute_result"
    }
   ],
   "source": [
    "#at last Create a slider widget for frequency control\n",
    "freq_slider = widgets.FloatSlider(value=1.0, min=0.1, max=5.0, step=0.1, description='Frequency:')\n",
    "widgets.interactive(update_plot, freq=freq_slider)"
   ]
  },
  {
   "cell_type": "code",
   "execution_count": null,
   "id": "53b91265-e2c1-4a97-839c-48d1ecd43182",
   "metadata": {},
   "outputs": [],
   "source": []
  }
 ],
 "metadata": {
  "kernelspec": {
   "display_name": "Python 3 (ipykernel)",
   "language": "python",
   "name": "python3"
  },
  "language_info": {
   "codemirror_mode": {
    "name": "ipython",
    "version": 3
   },
   "file_extension": ".py",
   "mimetype": "text/x-python",
   "name": "python",
   "nbconvert_exporter": "python",
   "pygments_lexer": "ipython3",
   "version": "3.11.1"
  }
 },
 "nbformat": 4,
 "nbformat_minor": 5
}

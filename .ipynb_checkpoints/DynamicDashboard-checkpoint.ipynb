{
 "cells": [
  {
   "cell_type": "code",
   "execution_count": 13,
   "id": "c020a4f5-1b7f-4596-b99b-af6dd3c71e3e",
   "metadata": {},
   "outputs": [],
   "source": [
    "import pandas as pd\n",
    "import seaborn as sns\n",
    "import ipywidgets as widgets\n",
    "from IPython.display import display\n",
    "import matplotlib.pyplot as plt\n",
    "\n",
    "#First load a sample dataset\n",
    "df = sns.load_dataset(\"iris\")"
   ]
  },
  {
   "cell_type": "code",
   "execution_count": 6,
   "id": "3f6c062d-d8dc-45e0-b548-2686567784ea",
   "metadata": {},
   "outputs": [],
   "source": [
    "\"\"\"Then Create widgets for data selection\n",
    "species_dropdown = widgets.Dropdown(\n",
    "    option=df[\"species\"].unique(),\n",
    "    value=df[\"species\"].unique()[0],\n",
    "    description=\"Select Species:\",\n",
    ")\n",
    "\n",
    "sepal_length_slider = widgets.FloatSlider(\n",
    "    value=df[\"sepal_length\"].mean(),\n",
    "    min=df[\"sepal_length\"].min(),\n",
    "    max=df[\"sepal_length\"].max(),\n",
    "    step=0.1,\n",
    "    description=\"Sepal Length:\"\n",
    ")\"\"\"\n",
    "\n",
    "# Then Create widgets for data selection\n",
    "species_dropdown = widgets.Dropdown(\n",
    "    options=df[\"species\"].unique(),\n",
    "    value=df[\"species\"].unique()[0],\n",
    "    description=\"Select Species:\",\n",
    ")\n",
    "sepal_length_slider = widgets.FloatSlider(\n",
    "    value=df[\"sepal_length\"].mean(),\n",
    "    min=df[\"sepal_length\"].min(),\n",
    "    max=df[\"sepal_length\"].max(),\n",
    "    step=0.1,\n",
    "    description=\"Sepal Length:\"\n",
    ")"
   ]
  },
  {
   "cell_type": "code",
   "execution_count": 8,
   "id": "12cf88c8-267e-4cca-8056-6158b64c909d",
   "metadata": {},
   "outputs": [],
   "source": [
    "#Create a function for updating the plot\n",
    "def update_plot(selected_species, sepal_length):\n",
    "    filtered_df = df[df[\"species\"] == selected_species]\n",
    "    sns.scatterplot(x=\"sepal_length\", y=\"sepal_width\", data=filtered_df)\n",
    "    plt.title(f\"Scatterplot for {selected_species}\")\n",
    "    plt.xlabel(\"Sepal Length\")\n",
    "    plt.ylabel(\"Sepal Width\")\n",
    "    plt.axvline(x=sepal_length, color=\"r\", linestyle=\"--\")\n",
    "    plt.show()"
   ]
  },
  {
   "cell_type": "code",
   "execution_count": 11,
   "id": "e69fc206-ff11-4885-82c6-713753b76694",
   "metadata": {},
   "outputs": [
    {
     "data": {
      "application/vnd.jupyter.widget-view+json": {
       "model_id": "0ac9a80aa4e44b36b041207eb3679abc",
       "version_major": 2,
       "version_minor": 0
      },
      "text/plain": [
       "interactive(children=(Dropdown(description='Select Species:', options=('setosa', 'versicolor', 'virginica'), v…"
      ]
     },
     "execution_count": 11,
     "metadata": {},
     "output_type": "execute_result"
    }
   ],
   "source": [
    "#Create an interactive dashboard\n",
    "widgets.interactive(update_plot, selected_species=species_dropdown, sepal_length=sepal_length_slider)"
   ]
  },
  {
   "cell_type": "code",
   "execution_count": null,
   "id": "85350d1a-63f3-4f71-bfb9-b6658aed1eb5",
   "metadata": {},
   "outputs": [],
   "source": []
  }
 ],
 "metadata": {
  "kernelspec": {
   "display_name": "Python 3 (ipykernel)",
   "language": "python",
   "name": "python3"
  },
  "language_info": {
   "codemirror_mode": {
    "name": "ipython",
    "version": 3
   },
   "file_extension": ".py",
   "mimetype": "text/x-python",
   "name": "python",
   "nbconvert_exporter": "python",
   "pygments_lexer": "ipython3",
   "version": "3.11.1"
  }
 },
 "nbformat": 4,
 "nbformat_minor": 5
}

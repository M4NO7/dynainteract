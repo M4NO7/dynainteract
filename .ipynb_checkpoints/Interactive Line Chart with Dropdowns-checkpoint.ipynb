{
 "cells": [
  {
   "cell_type": "code",
   "execution_count": 1,
   "id": "92b458c5-7ab1-4845-b03d-11c2d1baaf9e",
   "metadata": {},
   "outputs": [],
   "source": [
    "import pandas as pd\n",
    "import numpy as np\n",
    "import matplotlib.pyplot as plt\n",
    "import ipywidgets as widgets\n",
    "from IPython.display import display"
   ]
  },
  {
   "cell_type": "code",
   "execution_count": 2,
   "id": "29f0ae9d-6e6e-49d0-912b-1ff735c26bd6",
   "metadata": {},
   "outputs": [],
   "source": [
    "#First create a Sample DataFrame\n",
    "data = pd.DataFrame({\n",
    "    'Year': np.arange(2000, 2021),\n",
    "    'Sales': np.random.randint(100, 1000, size=21)\n",
    "})\n",
    "#Then Create dropdown widgets for selecting data\n",
    "x_dropdown = widgets.Dropdown(\n",
    "    options=data.columns,\n",
    "    description='X-axis:'\n",
    ")\n",
    "y_dropdown = widgets.Dropdown(\n",
    "    options=data.columns,\n",
    "    description='Y-axis:'\n",
    ")"
   ]
  },
  {
   "cell_type": "code",
   "execution_count": 6,
   "id": "58be1e2f-dba0-4435-be21-3ec80928ed4c",
   "metadata": {},
   "outputs": [],
   "source": [
    "#Define an update function\n",
    "def update_plot(x_col,y_col):\n",
    "    plt.figure(figsize=(8,4))\n",
    "    plt.plot(data[x_col], data[y_col])\n",
    "    #Title is dynamic because the x-axis and y_axis data points are interchangeable\n",
    "    plt.title(f'{y_col} vs. {x_col}')\n",
    "    plt.xlabel(x_col)\n",
    "    plt.ylabel(y_col)\n",
    "    plt.grid(True)\n",
    "    plt.show()"
   ]
  },
  {
   "cell_type": "code",
   "execution_count": 7,
   "id": "b318a377-3655-4663-833f-ea03e898fec3",
   "metadata": {},
   "outputs": [
    {
     "data": {
      "application/vnd.jupyter.widget-view+json": {
       "model_id": "dda8f5b800bd4c6bbc6cd2fc8cbcdc3f",
       "version_major": 2,
       "version_minor": 0
      },
      "text/plain": [
       "interactive(children=(Dropdown(description='X-axis:', options=('Year', 'Sales'), value='Year'), Dropdown(descr…"
      ]
     },
     "execution_count": 7,
     "metadata": {},
     "output_type": "execute_result"
    }
   ],
   "source": [
    "#And last Link the dropdowns to the update function\n",
    "widgets.interactive(update_plot, x_col=x_dropdown, y_col=y_dropdown) "
   ]
  },
  {
   "cell_type": "code",
   "execution_count": null,
   "id": "5ac8835f-fdf0-444a-a9a0-7a6fc7609bb0",
   "metadata": {},
   "outputs": [],
   "source": []
  }
 ],
 "metadata": {
  "kernelspec": {
   "display_name": "Python 3 (ipykernel)",
   "language": "python",
   "name": "python3"
  },
  "language_info": {
   "codemirror_mode": {
    "name": "ipython",
    "version": 3
   },
   "file_extension": ".py",
   "mimetype": "text/x-python",
   "name": "python",
   "nbconvert_exporter": "python",
   "pygments_lexer": "ipython3",
   "version": "3.11.1"
  }
 },
 "nbformat": 4,
 "nbformat_minor": 5
}

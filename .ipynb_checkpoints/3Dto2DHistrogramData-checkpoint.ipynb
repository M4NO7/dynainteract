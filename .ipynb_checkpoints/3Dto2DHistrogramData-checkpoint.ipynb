{
 "cells": [
  {
   "cell_type": "code",
   "execution_count": null,
   "id": "8d4c2e0b-10a2-4dda-99af-8b061440c7d4",
   "metadata": {},
   "outputs": [],
   "source": [
    "# how-to-plot-data-with-axes3d-in-python-from-stackoverflow\n",
    "# https://stackoverflow.com/questions/53697293/how-to-plot-data-with-axes3d-in-python"
   ]
  },
  {
   "cell_type": "code",
   "execution_count": 9,
   "id": "cdb5cf63-3530-4920-9e6d-6aac2689e655",
   "metadata": {},
   "outputs": [],
   "source": [
    "# References\n",
    "# https://en.wikipedia.org/wiki/Lorenz_system\n",
    "# https://en.wikipedia.org/wiki/Chaos_theory#Lorenz's_pioneering_contributions_to_chaotic_modeling\n",
    "# https://matplotlib.org/matplotblog/posts/animated-fractals/\n",
    "# https://github.com/patnr/mpl-tools/tree/master\n",
    "# https://matplotlib.org/stable/users/explain/quick_start.html\n",
    "# Dependency Reference :- https://github.com/jupyterlab/scipy2018-jupyterlab-tutorial/tree/master\n",
    "# https://stackoverflow.com/questions/53697293/how-to-plot-data-with-axes3d-in-python\n",
    "# https://github.com/patnr/mpl-tools/tree/master\n",
    "# https://github.com/patnr/mpl-tools/blob/master/mpl_tools/visibility.py\n",
    "# https://github.com/jupyterlab/scipy2018-jupyterlab-tutorial/tree/master\n",
    "# https://stackoverflow.com/questions/36097036/python-attributeerror-in-plotting-a-3d-surface\n",
    "# Neil Sloane OEIS, Julia Set, Rule30, Conus Textile, nbviewer, Lorenz Equations, Chaos Theory, Mandelbrot Set, FASTA, Cellular Automata, Convay's Game of Life \n",
    "# https://stackoverflow.com/questions/53697293/how-to-plot-data-with-axes3d-in-python\n",
    "# https://stackoverflow.com/questions/7816799/getting-py2exe-to-work-with-zope-interface/11632115#11632115\n",
    "# https://stackoverflow.com/questions/18596410/importerror-no-module-named-mpl-toolkits-with-maptlotlib-1-3-0-and-py2exe\n",
    "# https://github.com/matplotlib/matplotlib/issues/10237"
   ]
  },
  {
   "cell_type": "code",
   "execution_count": 10,
   "id": "8f811dc7-4dbb-46f3-92c7-0b1eb35376a9",
   "metadata": {},
   "outputs": [],
   "source": [
    "from mpl_toolkits.mplot3d import Axes3D\n",
    "import matplotlib.pyplot as plt\n",
    "import numpy as np"
   ]
  },
  {
   "cell_type": "code",
   "execution_count": 15,
   "id": "8adcd5ee-43c9-43e5-bbbe-f6f8ccb5fd8d",
   "metadata": {},
   "outputs": [],
   "source": [
    "x = [74, 74, 74, 74, 74, 74, 74, 74, 192, 74]\n",
    "y = [0, 1, 2, 3, 4, 5, 6, 7, 8, 9]\n",
    "z =  [1455, 1219, 1240, 1338, 1276, 1298, 1292, 1157, 486, 1388]\n",
    "dx = np.ones(10)*10\n",
    "dy = np.ones(10)\n",
    "dz = [0,1,2,3,4,5,6,7,8,9]"
   ]
  },
  {
   "cell_type": "code",
   "execution_count": 17,
   "id": "3e614236-2fe4-4bf1-bcdc-1b1b58b7150b",
   "metadata": {},
   "outputs": [
    {
     "ename": "AttributeError",
     "evalue": "'Axes3D' object has no attribute 'w_xaxis'",
     "output_type": "error",
     "traceback": [
      "\u001b[1;31m---------------------------------------------------------------------------\u001b[0m",
      "\u001b[1;31mAttributeError\u001b[0m                            Traceback (most recent call last)",
      "Cell \u001b[1;32mIn[17], line 4\u001b[0m\n\u001b[0;32m      2\u001b[0m ax \u001b[38;5;241m=\u001b[39m Axes3D(fig)\n\u001b[0;32m      3\u001b[0m ax\u001b[38;5;241m.\u001b[39mbar3d(x, y, z, dx, dy, dz, color\u001b[38;5;241m=\u001b[39m\u001b[38;5;124m'\u001b[39m\u001b[38;5;124m#00ceaa\u001b[39m\u001b[38;5;124m'\u001b[39m)\n\u001b[1;32m----> 4\u001b[0m \u001b[43max\u001b[49m\u001b[38;5;241;43m.\u001b[39;49m\u001b[43mw_xaxis\u001b[49m\u001b[38;5;241m.\u001b[39mset_ticklabels(x)\n\u001b[0;32m      5\u001b[0m ax\u001b[38;5;241m.\u001b[39mw_yaxis\u001b[38;5;241m.\u001b[39mset_ticklabels(y)\n\u001b[0;32m      6\u001b[0m ax\u001b[38;5;241m.\u001b[39mset_title(\u001b[38;5;124m\"\u001b[39m\u001b[38;5;124mData Analysis \u001b[39m\u001b[38;5;124m\"\u001b[39m)\n",
      "\u001b[1;31mAttributeError\u001b[0m: 'Axes3D' object has no attribute 'w_xaxis'"
     ]
    },
    {
     "data": {
      "text/plain": [
       "<Figure size 640x480 with 0 Axes>"
      ]
     },
     "metadata": {},
     "output_type": "display_data"
    }
   ],
   "source": [
    "fig = plt.figure()\n",
    "ax = Axes3D(fig)\n",
    "ax.bar3d(x, y, z, dx, dy, dz, color='#00ceaa')\n",
    "ax.w_xaxis.set_ticklabels(x)\n",
    "ax.w_yaxis.set_ticklabels(y)\n",
    "ax.set_title(\"Data Analysis \")\n",
    "ax.set_xlabel('x')\n",
    "ax.set_ylabel('y')\n",
    "ax.set_zlabel('z')"
   ]
  },
  {
   "cell_type": "code",
   "execution_count": 18,
   "id": "913303ba-7d6d-409b-bb73-80f6a6611a0b",
   "metadata": {},
   "outputs": [],
   "source": [
    "plt.show()"
   ]
  },
  {
   "cell_type": "code",
   "execution_count": null,
   "id": "03a7f1af-a9cb-4e5a-9ea6-88850ef19e46",
   "metadata": {},
   "outputs": [],
   "source": []
  }
 ],
 "metadata": {
  "kernelspec": {
   "display_name": "Python 3 (ipykernel)",
   "language": "python",
   "name": "python3"
  },
  "language_info": {
   "codemirror_mode": {
    "name": "ipython",
    "version": 3
   },
   "file_extension": ".py",
   "mimetype": "text/x-python",
   "name": "python",
   "nbconvert_exporter": "python",
   "pygments_lexer": "ipython3",
   "version": "3.11.1"
  }
 },
 "nbformat": 4,
 "nbformat_minor": 5
}

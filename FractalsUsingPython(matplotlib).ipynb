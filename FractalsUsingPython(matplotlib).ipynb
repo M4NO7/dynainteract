https://matplotlib.org/matplotblog/posts/animated-fractals/

{
 "cells": [
  {
   "cell_type": "code",
   "execution_count": 1,
   "id": "b326e01a-a759-443b-be94-8600af925291",
   "metadata": {},
   "outputs": [],
   "source": [
    "# https://matplotlib.org/matplotblog/posts/animated-fractals/\n",
    "# Koch Snowflake\n",
    "# https://isquared.digital/visualizations/2020-06-15-koch-curve/"
   ]
  }
 ],
 "metadata": {
  "kernelspec": {
   "display_name": "Python 3 (ipykernel)",
   "language": "python",
   "name": "python3"
  },
  "language_info": {
   "codemirror_mode": {
    "name": "ipython",
    "version": 3
   },
   "file_extension": ".py",
   "mimetype": "text/x-python",
   "name": "python",
   "nbconvert_exporter": "python",
   "pygments_lexer": "ipython3",
   "version": "3.11.1"
  }
 },
 "nbformat": 4,
 "nbformat_minor": 5
}

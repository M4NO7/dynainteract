{
 "cells": [
  {
   "cell_type": "code",
   "execution_count": 1,
   "id": "5251b256-7d61-4567-b903-537ba794bc54",
   "metadata": {},
   "outputs": [],
   "source": [
    "import numpy as np\n",
    "import matplotlib.pyplot as plt\n",
    "from mpl_toolkits.mplot3d import Axes3D\n",
    "import ipywidgets as widgets\n",
    "from IPython.display import display"
   ]
  },
  {
   "cell_type": "code",
   "execution_count": 6,
   "id": "2c929fa8-b30a-4ec1-b5da-8e18930b0d01",
   "metadata": {},
   "outputs": [],
   "source": [
    "#First Generate random 3D data\n",
    "np.random.seed(0)\n",
    "data = np.random.rand(100,3)\n",
    "#Create sliders for axis limits\n",
    "x_limit_slider = widgets.FloatRangeSlider(\n",
    "    min=0, max=1, step=0.01, value=[0,1], description='X-Limit'\n",
    ")\n",
    "y_limit_slider = widgets.FloatRangeSlider(\n",
    "    min=0, max=1, step=0.01, value=[0,1], description='Y-Limit'\n",
    ")\n",
    "z_limit_slider = widgets.FloatRangeSlider(\n",
    "    min=0, max=1, step=0.01, value=[0,1], description='Z-Limit'\n",
    ")\n"
   ]
  },
  {
   "cell_type": "code",
   "execution_count": 3,
   "id": "edb4e74a-35dd-4675-b049-e3a7608ade6b",
   "metadata": {},
   "outputs": [
    {
     "data": {
      "text/plain": [
       "'8.1.1'"
      ]
     },
     "execution_count": 3,
     "metadata": {},
     "output_type": "execute_result"
    }
   ],
   "source": [
    "import ipywidgets\n",
    "ipywidgets.__version__"
   ]
  },
  {
   "cell_type": "code",
   "execution_count": 7,
   "id": "8f3a30fe-d0ca-4fea-bd11-82fe1eb2c7ca",
   "metadata": {},
   "outputs": [],
   "source": [
    "#Define an update function\n",
    "def update_3d_scatter(x_limit, y_limit, z_limit):\n",
    "    fig = plt.figure(figsize=(8,6))\n",
    "    ax = fig.add_subplot(111, projection='3d')\n",
    "    ax.scatter(data[:,0], data[:,1], data[:,2])\n",
    "    ax.set_xlim(x_limit)\n",
    "    ax.set_ylim(y_limit)\n",
    "    ax.set_zlim(z_limit)\n",
    "    ax.set_title('3D Scatter Plot')\n",
    "    ax.set_xlabel('X')\n",
    "    ax.set_ylabel('Y')\n",
    "    ax.set_zlabel('Z')\n",
    "    plt.show()"
   ]
  },
  {
   "cell_type": "code",
   "execution_count": 8,
   "id": "47901b15-0eba-4b81-ade1-08f044ee0491",
   "metadata": {},
   "outputs": [
    {
     "data": {
      "application/vnd.jupyter.widget-view+json": {
       "model_id": "a19818aebb134a2a947b1c1794e72891",
       "version_major": 2,
       "version_minor": 0
      },
      "text/plain": [
       "interactive(children=(FloatRangeSlider(value=(0.0, 1.0), description='X-Limit', max=1.0, step=0.01), FloatRang…"
      ]
     },
     "execution_count": 8,
     "metadata": {},
     "output_type": "execute_result"
    }
   ],
   "source": [
    "#Link sliders to the update function\n",
    "widgets.interactive(update_3d_scatter, x_limit=x_limit_slider, y_limit=y_limit_slider, z_limit=z_limit_slider)"
   ]
  },
  {
   "cell_type": "code",
   "execution_count": null,
   "id": "7afcae84-937c-4177-8614-b076ef0d387f",
   "metadata": {},
   "outputs": [],
   "source": []
  }
 ],
 "metadata": {
  "kernelspec": {
   "display_name": "Python 3 (ipykernel)",
   "language": "python",
   "name": "python3"
  },
  "language_info": {
   "codemirror_mode": {
    "name": "ipython",
    "version": 3
   },
   "file_extension": ".py",
   "mimetype": "text/x-python",
   "name": "python",
   "nbconvert_exporter": "python",
   "pygments_lexer": "ipython3",
   "version": "3.11.1"
  }
 },
 "nbformat": 4,
 "nbformat_minor": 5
}

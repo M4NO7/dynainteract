{
 "cells": [
  {
   "cell_type": "code",
   "execution_count": null,
   "id": "b094fdbb-7c67-4b69-b3a4-d2fe010e9f39",
   "metadata": {},
   "outputs": [
    {
     "name": "stdout",
     "output_type": "stream",
     "text": [
      "\n",
      "Welcome to Python 3.11's help utility!\n",
      "\n",
      "If this is your first time using Python, you should definitely check out\n",
      "the tutorial on the internet at https://docs.python.org/3.11/tutorial/.\n",
      "\n",
      "Enter the name of any module, keyword, or topic to get help on writing\n",
      "Python programs and using Python modules.  To quit this help utility and\n",
      "return to the interpreter, just type \"quit\".\n",
      "\n",
      "To get a list of available modules, keywords, symbols, or topics, type\n",
      "\"modules\", \"keywords\", \"symbols\", or \"topics\".  Each module also comes\n",
      "with a one-line summary of what it does; to list the modules whose name\n",
      "or summary contain a given string such as \"spam\", type \"modules spam\".\n",
      "\n"
     ]
    },
    {
     "name": "stdin",
     "output_type": "stream",
     "text": [
      "help>  keywords\n"
     ]
    },
    {
     "name": "stdout",
     "output_type": "stream",
     "text": [
      "\n",
      "Here is a list of the Python keywords.  Enter any keyword to get more help.\n",
      "\n",
      "False               class               from                or\n",
      "None                continue            global              pass\n",
      "True                def                 if                  raise\n",
      "and                 del                 import              return\n",
      "as                  elif                in                  try\n",
      "assert              else                is                  while\n",
      "async               except              lambda              with\n",
      "await               finally             nonlocal            yield\n",
      "break               for                 not                 \n",
      "\n"
     ]
    },
    {
     "name": "stdin",
     "output_type": "stream",
     "text": [
      "help>  modules\n"
     ]
    },
    {
     "name": "stdout",
     "output_type": "stream",
     "text": [
      "\n",
      "Please wait a moment while I gather a list of all available modules...\n",
      "\n",
      "test_sqlite3: testing with version '2.6.0', sqlite_version '3.39.4'\n"
     ]
    },
    {
     "name": "stderr",
     "output_type": "stream",
     "text": [
      "C:\\Users\\manoj\\AppData\\Local\\Programs\\Python\\Python311\\Lib\\site-packages\\numba\\core\\decorators.py:262: NumbaDeprecationWarning: \u001b[1mnumba.generated_jit is deprecated. Please see the documentation at: https://numba.readthedocs.io/en/stable/reference/deprecation.html#deprecation-of-generated-jit for more information and advice on a suitable replacement.\u001b[0m\n",
      "  warnings.warn(msg, NumbaDeprecationWarning)\n",
      "C:\\Users\\manoj\\AppData\\Local\\Programs\\Python\\Python311\\Lib\\site-packages\\numba\\core\\decorators.py:262: NumbaDeprecationWarning: \u001b[1mnumba.generated_jit is deprecated. Please see the documentation at: https://numba.readthedocs.io/en/stable/reference/deprecation.html#deprecation-of-generated-jit for more information and advice on a suitable replacement.\u001b[0m\n",
      "  warnings.warn(msg, NumbaDeprecationWarning)\n",
      "C:\\Users\\manoj\\AppData\\Local\\Programs\\Python\\Python311\\Lib\\site-packages\\numba\\core\\decorators.py:262: NumbaDeprecationWarning: \u001b[1mnumba.generated_jit is deprecated. Please see the documentation at: https://numba.readthedocs.io/en/stable/reference/deprecation.html#deprecation-of-generated-jit for more information and advice on a suitable replacement.\u001b[0m\n",
      "  warnings.warn(msg, NumbaDeprecationWarning)\n",
      "C:\\Users\\manoj\\AppData\\Local\\Programs\\Python\\Python311\\Lib\\site-packages\\clifford\\tools\\g3c\\__init__.py:1034: NumbaDeprecationWarning: \u001b[1mThe 'nopython' keyword argument was not supplied to the 'numba.jit' decorator. The implicit default value for this argument is currently False, but it will be changed to True in Numba 0.59.0. See https://numba.readthedocs.io/en/stable/reference/deprecation.html#deprecation-of-object-mode-fall-back-behaviour-when-using-jit for details.\u001b[0m\n",
      "  @numba.jit\n",
      "C:\\Users\\manoj\\AppData\\Local\\Programs\\Python\\Python311\\Lib\\site-packages\\clifford\\tools\\g3c\\__init__.py:1040: NumbaDeprecationWarning: \u001b[1mThe 'nopython' keyword argument was not supplied to the 'numba.jit' decorator. The implicit default value for this argument is currently False, but it will be changed to True in Numba 0.59.0. See https://numba.readthedocs.io/en/stable/reference/deprecation.html#deprecation-of-object-mode-fall-back-behaviour-when-using-jit for details.\u001b[0m\n",
      "  @numba.jit\n",
      "C:\\Users\\manoj\\AppData\\Local\\Programs\\Python\\Python311\\Lib\\site-packages\\numba\\core\\decorators.py:262: NumbaDeprecationWarning: \u001b[1mnumba.generated_jit is deprecated. Please see the documentation at: https://numba.readthedocs.io/en/stable/reference/deprecation.html#deprecation-of-generated-jit for more information and advice on a suitable replacement.\u001b[0m\n",
      "  warnings.warn(msg, NumbaDeprecationWarning)\n",
      "C:\\Users\\manoj\\AppData\\Local\\Programs\\Python\\Python311\\Lib\\site-packages\\pydub\\utils.py:170: RuntimeWarning: Couldn't find ffmpeg or avconv - defaulting to ffmpeg, but may not work\n",
      "  warn(\"Couldn't find ffmpeg or avconv - defaulting to ffmpeg, but may not work\", RuntimeWarning)\n"
     ]
    },
    {
     "data": {
      "text/html": [
       "<pre style=\"white-space:pre;overflow-x:auto;line-height:normal;font-family:Menlo,'DejaVu Sans Mono',consolas,'Courier New',monospace\">Manim Community <span style=\"color: #008000; text-decoration-color: #008000\">v0.17.2</span>\n",
       "\n",
       "</pre>\n"
      ],
      "text/plain": [
       "Manim Community \u001b[32mv0.\u001b[0m\u001b[32m17.2\u001b[0m\n",
       "\n"
      ]
     },
     "metadata": {},
     "output_type": "display_data"
    },
    {
     "name": "stderr",
     "output_type": "stream",
     "text": [
      "C:\\Users\\manoj\\AppData\\Local\\Programs\\Python\\Python311\\Lib\\pkgutil.py:92: NumbaPendingDeprecationWarning: \u001b[1mThe 'pycc' module is pending deprecation. Replacement technology is being developed.\n",
      "\n",
      "Pending Deprecation in Numba 0.57.0. For more information please see: https://numba.readthedocs.io/en/stable/reference/deprecation.html#deprecation-of-the-numba-pycc-module\u001b[0m\n",
      "  __import__(info.name)\n",
      "C:\\Users\\manoj\\AppData\\Local\\Programs\\Python\\Python311\\Lib\\pkgutil.py:92: UserWarning: The numpy.array_api submodule is still experimental. See NEP 47.\n",
      "  __import__(info.name)\n",
      "C:\\Users\\manoj\\AppData\\Local\\Programs\\Python\\Python311\\Lib\\site-packages\\_distutils_hack\\__init__.py:33: UserWarning: Setuptools is replacing distutils.\n",
      "  warnings.warn(\"Setuptools is replacing distutils.\")\n"
     ]
    },
    {
     "name": "stdout",
     "output_type": "stream",
     "text": [
      "IPython             certifi             matplotlib_inline   srt\n",
      "PIL                 cffi                mdurl               srt_tools\n",
      "__future__          cgi                 mimetypes           ssl\n",
      "__hello__           cgitb               mistune             sspi\n",
      "__phello__          charset_normalizer  mmap                sspicon\n",
      "_abc                chunk               mmapfile            stack_data\n",
      "_aix_support        click               mmsystem            start_pythonwin\n",
      "_argon2_cffi_bindings click_default_group moderngl            stat\n",
      "_ast                clifford            moderngl_window     statistics\n",
      "_asyncio            cloup               modulefinder        string\n",
      "_bisect             cmath               mpl_toolkits        stringprep\n",
      "_blake2             cmd                 mpl_tools           struct\n",
      "_bootsubprocess     code                msilib              subprocess\n",
      "_bz2                codecs              msvcrt              sunau\n",
      "_cffi_backend       codeop              multipledispatch    svgelements\n",
      "_codecs             collections         multiprocessing     symtable\n",
      "_codecs_cn          colorama            nbclient            sys\n",
      "_codecs_hk          colorsys            nbconvert           sysconfig\n",
      "_codecs_iso2022     colour              nbformat            tabnanny\n",
      "_codecs_jp          comm                nest_asyncio        tarfile\n",
      "_codecs_kr          commctrl            netbios             telnetlib\n",
      "_codecs_tw          compileall          netrc               tempfile\n",
      "_collections        concurrent          networkx            terminado\n",
      "_collections_abc    configobj           nntplib             test\n",
      "_compat_pickle      configparser        notebook_shim       tests\n",
      "_compression        contextlib          nt                  textwrap\n",
      "_contextvars        contextvars         ntpath              this\n",
      "_csv                contourpy           ntsecuritycon       threading\n",
      "_ctypes             copy                nturl2path          time\n",
      "_ctypes_test        copyreg             numba               timeit\n",
      "_datetime           crypt               numbers             timer\n",
      "_decimal            csv                 numpy               tinycss2\n",
      "_distutils_hack     ctypes              odbc                tkinter\n",
      "_elementtree        curses              opcode              token\n",
      "_functools          cycler              operator            tokenize\n",
      "_geoslib            dataclasses         optparse            tomllib\n",
      "_hashlib            datetime            os                  tornado\n",
      "_heapq              dateutil            overrides           tqdm\n",
      "_imp                dbi                 packaging           trace\n",
      "_io                 dbm                 pandas              traceback\n",
      "_json               dde                 pandocfilters       tracemalloc\n",
      "_locale             debugpy             parso               traitlets\n",
      "_lsprof             decimal             pathlib             trimesh\n",
      "_lzma               decorator           pathops             tty\n",
      "_markupbase         defusedxml          pdb                 turtle\n",
      "_md5                difflib             perfmon             turtledemo\n",
      "_moderngl           dis                 pickle              types\n",
      "_msi                distutils           pickleshare         typing\n",
      "_multibytecodec     docopt              pickletools         unicodedata\n",
      "_multiprocessing    doctest             pip                 unittest\n",
      "_opcode             docutils            pipes               uri_template\n",
      "_operator           email               pipreqs             urllib\n",
      "_osx_support        encodings           pkg_resources       urllib3\n",
      "_overlapped         ensurepip           pkgutil             uu\n",
      "_pickle             enum                platform            uuid\n",
      "_py_abc             errno               platformdirs        validate\n",
      "_pydecimal          executing           plistlib            venv\n",
      "_pyio               fastjsonschema      poplib              warnings\n",
      "_queue              faulthandler        posixpath           watchdog\n",
      "_random             filecmp             pprint              wave\n",
      "_sha1               fileinput           profile             wcwidth\n",
      "_sha256             fnmatch             prometheus_client   weakref\n",
      "_sha3               fontTools           prompt_toolkit      webbrowser\n",
      "_sha512             fqdn                pstats              webcolors\n",
      "_signal             fractions           psutil              webencodings\n",
      "_sitebuiltins       ftplib              pty                 websocket\n",
      "_socket             functools           pure_eval           widgetsnbextension\n",
      "_sqlite3            gc                  py_compile          win2kras\n",
      "_sre                genericpath         pyasn1              win32api\n",
      "_ssl                getopt              pyclbr              win32clipboard\n",
      "_stat               getpass             pycparser           win32com\n",
      "_statistics         gettext             pydoc               win32con\n",
      "_string             glcontext           pydoc_data          win32console\n",
      "_strptime           glob                pydub               win32cred\n",
      "_struct             graphlib            pyexpat             win32crypt\n",
      "_symtable           gzip                pyglet              win32cryptcon\n",
      "_testbuffer         h5py                pygments            win32event\n",
      "_testcapi           hashlib             pylab               win32evtlog\n",
      "_testconsole        heapq               pyparsing           win32evtlogutil\n",
      "_testimportmultiple hmac                pyproj              win32file\n",
      "_testinternalcapi   html                pyrr                win32gui\n",
      "_testmultiphase     http                pythoncom           win32gui_struct\n",
      "_thread             idlelib             pythonjsonlogger    win32help\n",
      "_threading_local    idna                pytz                win32inet\n",
      "_tkinter            imaplib             pywin               win32inetcon\n",
      "_tokenize           imghdr              pywin32_bootstrap   win32job\n",
      "_tracemalloc        imp                 pywin32_testutil    win32lz\n",
      "_typing             importlib           pywintypes          win32net\n",
      "_uuid               inspect             queue               win32netcon\n",
      "_warnings           io                  quopri              win32pdh\n",
      "_weakref            ipaddress           random              win32pdhquery\n",
      "_weakrefset         ipykernel           rasutil             win32pdhutil\n",
      "_win32sysloader     ipykernel_launcher  re                  win32pipe\n",
      "_winapi             ipywidgets          referencing         win32print\n",
      "_winxptheme         isapi               regcheck            win32process\n",
      "_xxsubinterpreters  isoduration         regutil             win32profile\n",
      "_yaml               isosurfaces         reprlib             win32ras\n",
      "_zoneinfo           itertools           requests            win32rcparser\n",
      "abc                 jedi                rfc3339_validator   win32security\n",
      "adodbapi            jinja2              rfc3986_validator   win32service\n",
      "afxres              jmespath            rich                win32serviceutil\n",
      "aifc                json                rlcompleter         win32timezone\n",
      "antigravity         json5               rpds                win32trace\n",
      "anyio               jsonpointer         rsa                 win32traceutil\n",
      "argon2              jsonschema          runpy               win32transaction\n",
      "argparse            jsonschema_specifications s3transfer          win32ts\n",
      "array               jupyter             sched               win32ui\n",
      "arrow               jupyter_client      scipy               win32uiole\n",
      "ast                 jupyter_core        screeninfo          win32verstamp\n",
      "asttokens           jupyter_events      seaborn             win32wnet\n",
      "async_lru           jupyter_lsp         secrets             winerror\n",
      "asynchat            jupyter_server      select              winioctlcon\n",
      "asyncio             jupyter_server_terminals selectors           winnt\n",
      "asyncore            jupyterlab          send2trash          winperf\n",
      "atexit              jupyterlab_pygments servicemanager      winpty\n",
      "attr                jupyterlab_server   setuptools          winreg\n",
      "attrs               jupyterlab_widgets  shapefile           winsound\n",
      "audioop             keyword             shelve              winxpgui\n",
      "awscli              kiwisolver          shlex               winxptheme\n",
      "awsshell            lib2to3             shutil              wsgiref\n",
      "babel               linecache           signal              xdrlib\n",
      "backcall            llvmlite            site                xml\n",
      "base64              locale              six                 xmlrpc\n",
      "bdb                 logging             smtpd               xxsubtype\n",
      "binascii            lzma                smtplib             yaml\n",
      "bisect              mailbox             sndhdr              yarg\n",
      "bleach              mailcap             sniffio             zipapp\n",
      "boto3               manim               socket              zipfile\n",
      "botocore            manimpango          socketserver        zipimport\n",
      "bs4                 mapbox_earcut       soupsieve           zlib\n",
      "builtins            markdown_it         sparse              zmq\n",
      "bz2                 markupsafe          sqlite3             zoneinfo\n",
      "cProfile            marshal             sre_compile         \n",
      "cairo               math                sre_constants       \n",
      "calendar            matplotlib          sre_parse           \n",
      "\n",
      "Enter any module name to get more help.  Or, type \"modules spam\" to search\n",
      "for modules whose name or summary contain the string \"spam\".\n",
      "\n"
     ]
    }
   ],
   "source": [
    "help()"
   ]
  },
  {
   "cell_type": "code",
   "execution_count": null,
   "id": "dafd82a7-56b1-4627-a7ab-c0227e55896a",
   "metadata": {},
   "outputs": [],
   "source": []
  }
 ],
 "metadata": {
  "kernelspec": {
   "display_name": "Python 3 (ipykernel)",
   "language": "python",
   "name": "python3"
  },
  "language_info": {
   "codemirror_mode": {
    "name": "ipython",
    "version": 3
   },
   "file_extension": ".py",
   "mimetype": "text/x-python",
   "name": "python",
   "nbconvert_exporter": "python",
   "pygments_lexer": "ipython3",
   "version": "3.11.1"
  }
 },
 "nbformat": 4,
 "nbformat_minor": 5
}

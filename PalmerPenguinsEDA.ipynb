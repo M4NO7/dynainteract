{
 "cells": [
  {
   "cell_type": "code",
   "execution_count": 7,
   "id": "3583ebd7-4d72-4442-be2c-7bb41ada3782",
   "metadata": {},
   "outputs": [],
   "source": [
    "# EDA means Exploratory Data Analysis for the Palmer Penguin Dataset presented on Kaggle."
   ]
  },
  {
   "cell_type": "code",
   "execution_count": 12,
   "id": "553eedd3-be5d-42d3-8f56-84616b937d56",
   "metadata": {},
   "outputs": [],
   "source": [
    "# https://saturncloud.io/blog/understanding-jupyter-notebook-widgets/\n",
    "# https://saturncloud.io/glossary/kubernetes/\n",
    "# https://www.kaggle.com/datasets/parulpandey/palmer-archipelago-antarctica-penguin-data/data"
   ]
  },
  {
   "cell_type": "code",
   "execution_count": null,
   "id": "b20d665d-3020-41a2-b973-edb107929f0f",
   "metadata": {},
   "outputs": [],
   "source": []
  }
 ],
 "metadata": {
  "kernelspec": {
   "display_name": "Python 3 (ipykernel)",
   "language": "python",
   "name": "python3"
  },
  "language_info": {
   "codemirror_mode": {
    "name": "ipython",
    "version": 3
   },
   "file_extension": ".py",
   "mimetype": "text/x-python",
   "name": "python",
   "nbconvert_exporter": "python",
   "pygments_lexer": "ipython3",
   "version": "3.11.1"
  }
 },
 "nbformat": 4,
 "nbformat_minor": 5
}
